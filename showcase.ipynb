{
 "cells": [
  {
   "cell_type": "markdown",
   "source": [
    "# AI Project : Biscuit Factory optimization"
   ],
   "metadata": {
    "collapsed": false
   },
   "id": "a1d11ed2bab28219"
  },
  {
   "cell_type": "markdown",
   "source": [
    "### Imports"
   ],
   "metadata": {
    "collapsed": false
   },
   "id": "9ce81e794a7cbb87"
  },
  {
   "cell_type": "code",
   "outputs": [],
   "source": [
    "from bees import bee_search\n",
    "from biscuits import Roll\n",
    "from bogo import bogo\n",
    "from backtracking import place_biscuits"
   ],
   "metadata": {
    "collapsed": false
   },
   "id": "d56aaeb736421a7a"
  }
 ],
 "metadata": {
  "kernelspec": {
   "display_name": "Python 3",
   "language": "python",
   "name": "python3"
  },
  "language_info": {
   "codemirror_mode": {
    "name": "ipython",
    "version": 2
   },
   "file_extension": ".py",
   "mimetype": "text/x-python",
   "name": "python",
   "nbconvert_exporter": "python",
   "pygments_lexer": "ipython2",
   "version": "2.7.6"
  }
 },
 "nbformat": 4,
 "nbformat_minor": 5
}
